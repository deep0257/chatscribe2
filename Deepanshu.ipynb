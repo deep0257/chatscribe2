{
 "cells": [
  {
   "cell_type": "code",
   "execution_count": 1,
   "id": "008bba52",
   "metadata": {},
   "outputs": [
    {
     "name": "stderr",
     "output_type": "stream",
     "text": [
      "/home/vinayak/.local/lib/python3.10/site-packages/pinecone/data/index.py:1: TqdmWarning: IProgress not found. Please update jupyter and ipywidgets. See https://ipywidgets.readthedocs.io/en/stable/user_install.html\n",
      "  from tqdm.autonotebook import tqdm\n",
      "/home/vinayak/.local/lib/python3.10/site-packages/huggingface_hub/file_download.py:943: FutureWarning: `resume_download` is deprecated and will be removed in version 1.0.0. Downloads always resume when possible. If you want to force a new download, use `force_download=True`.\n",
      "  warnings.warn(\n"
     ]
    },
    {
     "name": "stdout",
     "output_type": "stream",
     "text": [
      "✅ SentenceTransformer embeddings initialized\n"
     ]
    },
    {
     "name": "stderr",
     "output_type": "stream",
     "text": [
      "/home/vinayak/.local/lib/python3.10/site-packages/langchain_core/_api/deprecation.py:117: LangChainDeprecationWarning: The function `__call__` was deprecated in LangChain 0.1.7 and will be removed in 0.2.0. Use invoke instead.\n",
      "  warn_deprecated(\n"
     ]
    },
    {
     "name": "stdout",
     "output_type": "stream",
     "text": [
      "✅ Connected to Ollama LLM (llama3.2:1b)\n",
      "✅ Existing index has correct dimension: 384\n",
      "Connected to Pinecone index: chatscribe2\n"
     ]
    }
   ],
   "source": [
    "from dotenv import load_dotenv\n",
    "load_dotenv()\n",
    "from fastapi import FastAPI\n",
    "from fastapi.staticfiles import StaticFiles\n",
    "from fastapi.middleware.cors import CORSMiddleware\n",
    "from starlette.middleware.sessions import SessionMiddleware\n",
    "from app.core.config import settings\n",
    "from app.api import auth, documents, chat, web\n",
    "import os\n",
    "from pydantic_settings import BaseSettings\n",
    "from sqlalchemy import Column, Integer, String, DateTime, Text, ForeignKey, Boolean\n",
    "from sqlalchemy.orm import relationship\n",
    "from sqlalchemy.sql import func\n",
    "from sqlalchemy.orm import declarative_base\n",
    "from sqlalchemy import create_engine\n",
    "from sqlalchemy.orm import sessionmaker\n",
    "from datetime import datetime\n",
    "from typing import List, Optional\n",
    "from pydantic import BaseModel, EmailStr\n",
    "from datetime import timedelta\n",
    "from jose import JWTError, jwt\n",
    "from passlib.context import CryptContext\n",
    "from sqlalchemy.orm import Session\n",
    "from pathlib import Path\n",
    "import uuid\n",
    "import PyPDF2\n",
    "import docx\n",
    "from typing import Tuple, Optional\n",
    "import openai\n",
    "from fastapi import FastAPI\n",
    "from fastapi.staticfiles import StaticFiles\n",
    "from fastapi.middleware.cors import CORSMiddleware\n",
    "from starlette.middleware.sessions import SessionMiddleware\n",
    "\n",
    "from fastapi.responses import RedirectResponse\n",
    "from fastapi.templating import Jinja2Templates\n",
    "from fastapi import Depends, HTTPException, status, UploadFile, File, APIRouter, Request, Response"
   ]
  },
  {
   "cell_type": "code",
   "execution_count": null,
   "id": "842dba70",
   "metadata": {},
   "outputs": [],
   "source": []
  },
  {
   "cell_type": "code",
   "execution_count": null,
   "id": "a38cfa5c",
   "metadata": {},
   "outputs": [],
   "source": []
  },
  {
   "cell_type": "code",
   "execution_count": null,
   "id": "bbf4469c",
   "metadata": {},
   "outputs": [],
   "source": []
  },
  {
   "cell_type": "code",
   "execution_count": null,
   "id": "33e314da",
   "metadata": {},
   "outputs": [],
   "source": []
  }
 ],
 "metadata": {
  "kernelspec": {
   "display_name": "Python 3",
   "language": "python",
   "name": "python3"
  },
  "language_info": {
   "codemirror_mode": {
    "name": "ipython",
    "version": 3
   },
   "file_extension": ".py",
   "mimetype": "text/x-python",
   "name": "python",
   "nbconvert_exporter": "python",
   "pygments_lexer": "ipython3",
   "version": "3.10.12"
  }
 },
 "nbformat": 4,
 "nbformat_minor": 5
}
